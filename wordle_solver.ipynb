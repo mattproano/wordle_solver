{
 "cells": [
  {
   "cell_type": "code",
   "execution_count": 101,
   "metadata": {},
   "outputs": [],
   "source": [
    "# read in allowed_guesses and answer_list dictionaries from wordle\n",
    "answer_list = [line.rstrip() for line in open('wordle_answers.txt', 'r')]\n",
    "allowed_guesses = sorted([line.rstrip() for line in open('wordle_allowed_guesses.txt', 'r')] + answer_list)"
   ]
  },
  {
   "cell_type": "code",
   "execution_count": 102,
   "metadata": {},
   "outputs": [],
   "source": [
    "# gives individual guess a score value with colors represented by 0, .5, and 1\n",
    "from collections import Counter\n",
    "def color_and_score_guess(guess, target):\n",
    "    colors = []\n",
    "    target_letter_counts = dict(Counter(target))\n",
    "    letter_counts_guess = dict.fromkeys(list(set(target)), 0)\n",
    "    for position, letter in enumerate(guess):\n",
    "        if target[position] == letter and letter_counts_guess[letter] < target_letter_counts[letter]:\n",
    "            colors.append(1)\n",
    "            letter_counts_guess[letter] += 1\n",
    "        elif letter in target and letter_counts_guess[letter] < target_letter_counts[letter]:\n",
    "            colors.append(.5)\n",
    "            letter_counts_guess[letter] += 1\n",
    "        else:\n",
    "            colors.append(0)\n",
    "    score = sum(colors)\n",
    "    return colors, score\n",
    "\n",
    "def get_color(guess, target):\n",
    "    return color_and_score_guess(guess, target)[0]\n",
    "\n",
    "def get_score(guess, target):\n",
    "    return color_and_score_guess(guess, target)[1]\n",
    "\n",
    "# returns sum of scores for input word on each word in answer_list\n",
    "def word_goodness(word):\n",
    "    goodness = sum([get_score(word, target) for target in answer_list])\n",
    "    return goodness"
   ]
  },
  {
   "cell_type": "code",
   "execution_count": 103,
   "metadata": {},
   "outputs": [],
   "source": [
    "# returns goodness of each word in allowed_guesses and stores the ranking in word_ranks.csv\n",
    "hi = '''def rank_all_words():\n",
    "    ranks = [[word, 0] for word in allowed_guesses]\n",
    "    for word_num in range(len(ranks)):\n",
    "        ranks[word_num][1] += word_goodness(ranks[word_num][0])\n",
    "    return ranks\n",
    "    \n",
    "word_ranks = sorted(rank_all_words(), key = lambda x: x[1], reverse = True)\n",
    "\n",
    "import csv\n",
    "with open(\"word_ranks.csv\", \"w\", newline='') as f:\n",
    "    wr = csv.writer(f)\n",
    "    wr.writerows(word_ranks)'''"
   ]
  },
  {
   "cell_type": "code",
   "execution_count": 104,
   "metadata": {},
   "outputs": [],
   "source": [
    "# narrows down valid_guesses based on color and returns new valid_guesses\n",
    "def eliminate(valid_guesses, letter_colors):\n",
    "    \n",
    "    # iterates through letter_colors tuples\n",
    "    for position, (letter, color) in enumerate(letter_colors):\n",
    "        \n",
    "        # remove valid guesses without known greens\n",
    "        if color == 1:\n",
    "            valid_guesses = [word for word in valid_guesses if word[position] == letter]\n",
    "        \n",
    "        # remove valid guesses without known yellows\n",
    "        if color == .5:\n",
    "            valid_guesses = [word for word in valid_guesses if letter in word]\n",
    "        \n",
    "        # remove valid guesses with known yellows in the yellow position\n",
    "        if color == .5:\n",
    "            valid_guesses = [word for word in valid_guesses if word[position] != letter]\n",
    "        \n",
    "        # remove valid guesses with letters that are entirely gray\n",
    "        if color == 0 and (letter, .5) not in letter_colors and (letter, 1) not in letter_colors:\n",
    "            valid_guesses = [word for word in valid_guesses if letter not in word]\n",
    "    \n",
    "    return valid_guesses"
   ]
  },
  {
   "cell_type": "code",
   "execution_count": 105,
   "metadata": {},
   "outputs": [],
   "source": [
    "# WORDLE SOLVER:\n",
    "# auto mode attempts to solve a given word\n",
    "# cheat mode if you want to play along with an actual wordle\n",
    "# play mode if you just want to play wordle\n",
    "\n",
    "import random \n",
    "def solver(mode):\n",
    "    \n",
    "    # orders the words according to rank\n",
    "    ordered_words = []\n",
    "    with open(\"word_ranks.csv\", \"r\", newline = \"\") as f:\n",
    "        r = csv.reader(f, delimiter=\",\")\n",
    "        for row in r:\n",
    "            ordered_words.append(row[0])\n",
    "    \n",
    "    valid_guesses = ordered_words\n",
    "    \n",
    "    if mode == \"auto\":\n",
    "        target = input(\"What word would you like me to solve?: \")\n",
    "        print()\n",
    "        # iterates through guesses\n",
    "        for turn in range(1, 7):\n",
    "            print(\"I guessed \" + valid_guesses[0])\n",
    "            print()\n",
    "            if get_score(valid_guesses[0], target) == 5:\n",
    "                print(\"The word is \" + valid_guesses[0].upper() + \", solved in \" + str(turn) + \" guesses\")\n",
    "                return\n",
    "            guess_letters = [letter for letter in valid_guesses[0]]\n",
    "            guess_colors = get_color(valid_guesses[0], target)\n",
    "            letter_colors = list(zip(guess_letters, guess_colors))\n",
    "            # reduce valid guess size\n",
    "            valid_guesses = eliminate(valid_guesses, letter_colors)\n",
    "        print(\"Failed to solve in 6 turns\")\n",
    "        print()\n",
    "        print(\"Was it any of these words?: \" + str(valid_guesses[0:5]))\n",
    "        return\n",
    "    \n",
    "    if mode == \"cheat\":\n",
    "        count = 1\n",
    "        # iterate through user prompts\n",
    "        while True:\n",
    "            print()\n",
    "            guess = input(\"GUESS \" + str(count) + \", RECOMMENDED: \" + str(valid_guesses[0:5]) + \", ENTER YOUR GUESS: \")\n",
    "            guess_letters = [letter for letter in guess]\n",
    "            guess_colors = []\n",
    "            for _ in range(0, 5):\n",
    "                color = float(input(\"What are the colors? 1 for Green, .5 for Yellow, 0 for Gray: \"))\n",
    "                guess_colors.append(color)\n",
    "            letter_colors = list(zip(guess_letters, guess_colors))\n",
    "            if guess_colors == [1, 1, 1, 1, 1]:\n",
    "                print()\n",
    "                print(\"Congrats you won in \" + str(count) + \" guesses\")\n",
    "                return\n",
    "            # reduce valid guess size\n",
    "            valid_guesses = eliminate(valid_guesses, letter_colors)\n",
    "            count += 1\n",
    "            if count == 7:\n",
    "                print()\n",
    "                print(\"Failed to solve in 6 turns\")\n",
    "                print()\n",
    "                print(\"Was it any of these words?: \" + str(valid_guesses[0:5]))\n",
    "                return\n",
    "\n",
    "    if mode == \"play\":\n",
    "        count = 1\n",
    "        target = random.choice(answer_list)\n",
    "        help = str(input(\"Do you want help?: 'Yes' or 'No': \"))\n",
    "        print()\n",
    "        # iterate through user prompts\n",
    "        while True:\n",
    "            if help == \"No\":\n",
    "                guess = input(\"GUESS \" + str(count) + \", ENTER YOUR GUESS: \")\n",
    "                print()\n",
    "            if help == \"Yes\":\n",
    "                guess = input(\"GUESS \" + str(count) + \", RECOMMENDED: \" + str(valid_guesses[0:5]) + \", ENTER YOUR GUESS: \")\n",
    "                print()\n",
    "            guess_letters = [letter for letter in guess]\n",
    "            guess_colors = get_color(guess, target)\n",
    "            letter_colors = list(zip(guess_letters, guess_colors))\n",
    "            if guess_colors == [1, 1, 1, 1, 1]:\n",
    "                print(\"Congrats you won in \" + str(count) + \" guesses\")\n",
    "                return\n",
    "            print(\"The colors of your guess are: \" + str(letter_colors))\n",
    "            print()\n",
    "            # reduce valid guess size recommendations\n",
    "            valid_guesses = eliminate(valid_guesses, letter_colors)\n",
    "            count += 1\n",
    "            if count == 7:\n",
    "                print(\"Failed to solve in 6 turns, the word was \" + target.upper())\n",
    "                return    "
   ]
  },
  {
   "cell_type": "code",
   "execution_count": 106,
   "metadata": {
    "scrolled": false
   },
   "outputs": [
    {
     "name": "stdout",
     "output_type": "stream",
     "text": [
      "Do you want help?: 'Yes' or 'No': Yes\n",
      "\n",
      "GUESS 1, RECOMMENDED: ['soare', 'stare', 'roate', 'raile', 'arose'], ENTER YOUR GUESS: alter\n",
      "\n",
      "The colors of your guess are: [('a', 0.5), ('l', 0.5), ('t', 0), ('e', 1), ('r', 0)]\n",
      "\n",
      "GUESS 2, RECOMMENDED: ['samel', 'salep', 'lanes', 'lacey', 'panel'], ENTER YOUR GUESS: lanes\n",
      "\n",
      "The colors of your guess are: [('l', 0.5), ('a', 1), ('n', 0), ('e', 1), ('s', 0)]\n",
      "\n",
      "GUESS 3, RECOMMENDED: ['camel', 'paled', 'haled', 'baled', 'galed'], ENTER YOUR GUESS: camel\n",
      "\n",
      "The colors of your guess are: [('c', 0), ('a', 1), ('m', 0), ('e', 1), ('l', 1)]\n",
      "\n",
      "GUESS 4, RECOMMENDED: ['bagel', 'gavel', 'favel', 'hazel', 'babel'], ENTER YOUR GUESS: bagel\n",
      "\n",
      "Congrats you won in 4 guesses\n"
     ]
    }
   ],
   "source": [
    "# Play a random game of wordle with the bot\n",
    "solver(\"play\")"
   ]
  },
  {
   "cell_type": "code",
   "execution_count": 95,
   "metadata": {
    "scrolled": false
   },
   "outputs": [
    {
     "name": "stdout",
     "output_type": "stream",
     "text": [
      "\n",
      "GUESS 1, RECOMMENDED: ['soare', 'stare', 'roate', 'raile', 'arose'], ENTER YOUR GUESS: alter\n",
      "What are the colors? 1 for Green, .5 for Yellow, 0 for Gray: 0\n",
      "What are the colors? 1 for Green, .5 for Yellow, 0 for Gray: 0\n",
      "What are the colors? 1 for Green, .5 for Yellow, 0 for Gray: 0\n",
      "What are the colors? 1 for Green, .5 for Yellow, 0 for Gray: .5\n",
      "What are the colors? 1 for Green, .5 for Yellow, 0 for Gray: 0\n",
      "\n",
      "GUESS 2, RECOMMENDED: ['noise', 'sonce', 'souce', 'shone', 'shine'], ENTER YOUR GUESS: binds\n",
      "What are the colors? 1 for Green, .5 for Yellow, 0 for Gray: 0\n",
      "What are the colors? 1 for Green, .5 for Yellow, 0 for Gray: 1\n",
      "What are the colors? 1 for Green, .5 for Yellow, 0 for Gray: 1\n",
      "What are the colors? 1 for Green, .5 for Yellow, 0 for Gray: 0\n",
      "What are the colors? 1 for Green, .5 for Yellow, 0 for Gray: 0\n",
      "\n",
      "GUESS 3, RECOMMENDED: ['yince', 'mince', 'wince', 'hinge', 'minge'], ENTER YOUR GUESS: wince\n",
      "What are the colors? 1 for Green, .5 for Yellow, 0 for Gray: 1\n",
      "What are the colors? 1 for Green, .5 for Yellow, 0 for Gray: 1\n",
      "What are the colors? 1 for Green, .5 for Yellow, 0 for Gray: 1\n",
      "What are the colors? 1 for Green, .5 for Yellow, 0 for Gray: 1\n",
      "What are the colors? 1 for Green, .5 for Yellow, 0 for Gray: 1\n",
      "\n",
      "Congrats you won in 3 guesses\n"
     ]
    }
   ],
   "source": [
    "# Cheat through a real live wordle game\n",
    "solver(\"cheat\")"
   ]
  },
  {
   "cell_type": "code",
   "execution_count": 107,
   "metadata": {
    "scrolled": false
   },
   "outputs": [
    {
     "name": "stdout",
     "output_type": "stream",
     "text": [
      "What word would you like me to solve?: bagel\n",
      "\n",
      "I guessed soare\n",
      "\n",
      "I guessed alien\n",
      "\n",
      "I guessed palet\n",
      "\n",
      "I guessed lacey\n",
      "\n",
      "I guessed bagel\n",
      "\n",
      "The word is BAGEL, solved in 5 guesses\n"
     ]
    }
   ],
   "source": [
    "# See how the bot would automatically solve a given word\n",
    "solver(\"auto\")"
   ]
  },
  {
   "cell_type": "code",
   "execution_count": null,
   "metadata": {},
   "outputs": [],
   "source": []
  }
 ],
 "metadata": {
  "interpreter": {
   "hash": "07be09d700ea1f14ca7329b0ce2715931df736ed5726fb01582f1a6de106a560"
  },
  "kernelspec": {
   "display_name": "Python 3 (ipykernel)",
   "language": "python",
   "name": "python3"
  },
  "language_info": {
   "codemirror_mode": {
    "name": "ipython",
    "version": 3
   },
   "file_extension": ".py",
   "mimetype": "text/x-python",
   "name": "python",
   "nbconvert_exporter": "python",
   "pygments_lexer": "ipython3",
   "version": "3.8.12"
  }
 },
 "nbformat": 4,
 "nbformat_minor": 2
}
